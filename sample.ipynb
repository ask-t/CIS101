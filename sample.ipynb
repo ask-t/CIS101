{
 "cells": [
  {
   "cell_type": "code",
   "execution_count": 19,
   "metadata": {},
   "outputs": [
    {
     "name": "stdout",
     "output_type": "stream",
     "text": [
      "F\n",
      "o\n",
      "r\n",
      " \n",
      "b\n",
      "e\n",
      "h\n",
      "o\n",
      "l\n",
      "d\n",
      " \n",
      "t\n",
      "h\n",
      "e\n",
      " \n",
      "f\n",
      "i\n",
      "e\n",
      "l\n",
      "d\n",
      " \n",
      "i\n",
      "s\n",
      " \n",
      "w\n",
      "h\n",
      "i\n",
      "t\n",
      "e\n",
      " \n",
      "a\n",
      "l\n",
      "r\n",
      "e\n",
      "a\n",
      "d\n",
      "y\n",
      " \n",
      "t\n",
      "o\n",
      " \n",
      "h\n",
      "a\n",
      "r\n",
      "v\n",
      "e\n",
      "s\n",
      "t\n",
      ".\n",
      "FOR BEHOLD THE FIELD IS WHITE ALREADY TO HARVEST.\n",
      "49\n",
      "0\n",
      ".tsevrah ot ydaerla etihw si dleif eht dloheb roF\n"
     ]
    }
   ],
   "source": [
    "def function(string):\n",
    "  for i in string:\n",
    "    print(i)\n",
    "  print(string.upper())\n",
    "  length = len(string)\n",
    "  print(length)\n",
    "  txt = ''\n",
    "  for _ in range(length):\n",
    "    length -=1\n",
    "    txt = txt+ string[length]\n",
    "  print(length)\n",
    "  print(txt)\n",
    "\n",
    "function(\"For behold the field is white already to harvest.\")"
   ]
  },
  {
   "cell_type": "code",
   "execution_count": 15,
   "metadata": {},
   "outputs": [
    {
     "name": "stdout",
     "output_type": "stream",
     "text": [
      "47\n",
      "46\n",
      "45\n",
      "44\n",
      "43\n",
      "42\n",
      "41\n",
      "40\n",
      "39\n",
      "38\n",
      "37\n",
      "36\n",
      "35\n",
      "34\n",
      "33\n",
      "32\n",
      "31\n",
      "30\n",
      "29\n",
      "28\n",
      "27\n",
      "26\n",
      "25\n",
      "24\n",
      "23\n",
      "22\n",
      "21\n",
      "20\n",
      "19\n",
      "18\n",
      "17\n",
      "16\n",
      "15\n",
      "14\n",
      "13\n",
      "12\n",
      "11\n",
      "10\n",
      "9\n",
      "8\n",
      "7\n",
      "6\n",
      "5\n",
      "4\n",
      "3\n",
      "2\n",
      "1\n",
      "0\n"
     ]
    }
   ],
   "source": [
    "num = 48\n",
    "for i in range(num):\n",
    "  num -= 1\n",
    "  print(num)"
   ]
  },
  {
   "cell_type": "code",
   "execution_count": 1,
   "metadata": {},
   "outputs": [
    {
     "name": "stdout",
     "output_type": "stream",
     "text": [
      "97\n",
      "98\n",
      "99\n",
      "100\n",
      "101\n"
     ]
    }
   ],
   "source": [
    "string = 'abcde'\n",
    "\n",
    "for i in string:\n",
    "  print(ord(i))"
   ]
  },
  {
   "cell_type": "code",
   "execution_count": 6,
   "metadata": {},
   "outputs": [
    {
     "name": "stdout",
     "output_type": "stream",
     "text": [
      "MFFmmMFFMFMFfFM\n",
      "7 15 8\n",
      "0.4666666666666667 0.5333333333333333\n"
     ]
    }
   ],
   "source": [
    "def percentGenders(data):\n",
    "  text =''\n",
    "  for i in data:\n",
    "    if i == 'M'or i == 'm' or i == 'f' or i == 'F':\n",
    "      text = text + i \n",
    "  print(text)\n",
    "  length = len(text)\n",
    "  male =0\n",
    "  female=0\n",
    "  for i in text:\n",
    "    if i == 'm' or i =='M':\n",
    "      male+=1\n",
    "    if i == 'f' or i =='F':\n",
    "      female+=1\n",
    "  print(male,length,female)\n",
    "\n",
    "  aveM = float(male/length)\n",
    "  aveF = float(female/length)\n",
    "  print(aveM, aveF)\n",
    "  \n",
    "percentGenders(\"MFFmmMFFMFMFfFM\")"
   ]
  },
  {
   "cell_type": "code",
   "execution_count": 5,
   "metadata": {},
   "outputs": [
    {
     "name": "stdout",
     "output_type": "stream",
     "text": [
      "0.4666666666666667\n"
     ]
    }
   ],
   "source": [
    "num = 7\n",
    "num2 = 8\n",
    "num3 = 15\n",
    "a = num/num3\n",
    "print(a)"
   ]
  },
  {
   "cell_type": "code",
   "execution_count": 12,
   "metadata": {},
   "outputs": [
    {
     "name": "stdout",
     "output_type": "stream",
     "text": [
      "56\n",
      "94\n",
      "150\n"
     ]
    }
   ],
   "source": [
    "string = '1. This is a simple text file with very few lines in it.'\n",
    "string2 ='2. It contains mostly lowercase letters, and a few UPPERCASE letters also a couple of numbers.'\n",
    "length = len(string)\n",
    "length2 = len(string2)\n",
    "print (length)\n",
    "print(length2)\n",
    "print(length+length2)"
   ]
  },
  {
   "cell_type": "code",
   "execution_count": 17,
   "metadata": {},
   "outputs": [
    {
     "name": "stdout",
     "output_type": "stream",
     "text": [
      "The file contains 152 characters, 2 'E' characters, 15 'e' characters, 9 'i' characters and 2 number characters.\n"
     ]
    }
   ],
   "source": [
    "string = ('1. This is a simple text file '\n",
    "'with very few lines in it. '\n",
    "'2. It contains mostly lowercase '\n",
    "'letters, and a few UPPERCASE '\n",
    "'letters also a couple of numbers. ')\n",
    "\n",
    "def function (string):\n",
    "  length = len(string)\n",
    "  E = 0\n",
    "  e = 0\n",
    "  i = 0\n",
    "  numbers = 0\n",
    "  for j in string:\n",
    "    if j == 'E':\n",
    "      E +=1\n",
    "    elif j == 'e':\n",
    "      e += 1\n",
    "    elif j == 'i':\n",
    "      i += 1\n",
    "    elif j in '1234567890':\n",
    "      numbers+=1\n",
    "  print(\"The file contains \"+str(length)+\" characters, \"+str(E)+\" 'E' characters, \"+str(e)+\" 'e' characters, \"+str(i)+\" 'i' characters and \"+str(numbers)+\" number characters.\")\n",
    "\n",
    "function (string)"
   ]
  },
  {
   "cell_type": "code",
   "execution_count": 1,
   "metadata": {},
   "outputs": [
    {
     "name": "stdout",
     "output_type": "stream",
     "text": [
      "true\n",
      "true\n",
      "true\n",
      "false\n",
      "false\n",
      "true\n"
     ]
    }
   ],
   "source": [
    "a = 'ABUiuO'\n",
    "\n",
    "for i in a:\n",
    "  if i == i.upper():\n",
    "    print('true')\n",
    "  else:\n",
    "    print('false')"
   ]
  },
  {
   "cell_type": "code",
   "execution_count": null,
   "metadata": {},
   "outputs": [],
   "source": [
    "def function (string):\n",
    "  func = True\n",
    "  while func == True:\n",
    "    path = '/Users/ask/CIS101/input2.txt'\n",
    "    file = open(path,\"rt\")\n",
    "    contents = file.read()\n",
    "    length = len(string)\n",
    "    vowel = upper = line = 0\n",
    "    for i in string:\n",
    "      if i.lower() in 'aiueo':\n",
    "        vowel +=1\n",
    "      if i in 'ABCDEFGHIJKLMNOPQRSTUVWXYZ':\n",
    "        upper += 1\n",
    "      if i == '\\n':\n",
    "        line+=1\n",
    "    print(\"The file contains \"+str(length)+\" characters, \"+str(vowel)+\"vowels, \"+str(upper)+\" upper case letters, and \"+str(line)+\" lines.\")\n",
    "\n",
    "function (contents)\n",
    "\n"
   ]
  },
  {
   "cell_type": "code",
   "execution_count": 3,
   "metadata": {},
   "outputs": [
    {
     "name": "stdout",
     "output_type": "stream",
     "text": [
      "1. This is a simple text file\n",
      "with very few lines in it.\n",
      "\n",
      "2. It contains mostly lowercase\n",
      "letters, and a few UPPERCASE\n",
      "letters also a couple of numbers.\n",
      "['1.', 'This', 'is', 'a', 'simple', 'text', 'file', 'with', 'very', 'few', 'lines', 'in', 'it.', '2.', 'It', 'contains', 'mostly', 'lowercase', 'letters,', 'and', 'a', 'few', 'UPPERCASE', 'letters', 'also', 'a', 'couple', 'of', 'numbers.']\n",
      "29\n"
     ]
    }
   ],
   "source": [
    "path = '/Users/ask/CIS101/input1.txt'\n",
    "file = open(path,\"rt\")\n",
    "contents = file.read()\n",
    "\n",
    "print(contents)\n",
    "\n",
    "a = contents.split()\n",
    "print(a)\n",
    "length = len(a)\n",
    "print(length)"
   ]
  },
  {
   "cell_type": "code",
   "execution_count": 9,
   "metadata": {},
   "outputs": [
    {
     "name": "stdout",
     "output_type": "stream",
     "text": [
      "The file contains 0 sentences, 44vowels, 11 upper case letters, and 5 lines.\n"
     ]
    }
   ],
   "source": [
    "def function ():\n",
    "  while True:\n",
    "    path = input('Enter path and file name (with quotes): ')\n",
    "    if path =='quit':\n",
    "      break\n",
    "    file = open(path,\"rt\")\n",
    "    contents = file.read()\n",
    "    sentences = upper = line = vowel = 0\n",
    "    list_contents = contents.split()\n",
    "    length = len(list_contents)\n",
    "    for i in contents:\n",
    "      if i.lower() in 'aiueo':\n",
    "        vowel +=1\n",
    "      if i in 'ABCDEFGHIJKLMNOPQRSTUVWXYZ':\n",
    "        upper += 1\n",
    "      if i == '\\n':\n",
    "        line+=1\n",
    "    print(\"The file contains \"+str(sentences)+\" sentences, \"+str(vowel)+\"vowels, \"+str(upper)+\" upper case letters, and \"+str(line)+\" lines.\")\n",
    "    break\n",
    "\n",
    "\n",
    "function ()"
   ]
  },
  {
   "cell_type": "code",
   "execution_count": 4,
   "metadata": {},
   "outputs": [
    {
     "ename": "TypeError",
     "evalue": "ord() expected a character, but string of length 2 found",
     "output_type": "error",
     "traceback": [
      "\u001b[0;31m---------------------------------------------------------------------------\u001b[0m",
      "\u001b[0;31mTypeError\u001b[0m                                 Traceback (most recent call last)",
      "\u001b[0;32m<ipython-input-4-401d40376059>\u001b[0m in \u001b[0;36m<module>\u001b[0;34m\u001b[0m\n\u001b[1;32m      1\u001b[0m \u001b[0mx\u001b[0m \u001b[0;34m=\u001b[0m \u001b[0minput\u001b[0m\u001b[0;34m(\u001b[0m\u001b[0;34m'number >>>'\u001b[0m\u001b[0;34m)\u001b[0m\u001b[0;34m\u001b[0m\u001b[0;34m\u001b[0m\u001b[0m\n\u001b[0;32m----> 2\u001b[0;31m \u001b[0mprint\u001b[0m\u001b[0;34m(\u001b[0m \u001b[0mx\u001b[0m \u001b[0;34m,\u001b[0m \u001b[0mord\u001b[0m\u001b[0;34m(\u001b[0m\u001b[0mx\u001b[0m\u001b[0;34m)\u001b[0m\u001b[0;34m)\u001b[0m\u001b[0;34m\u001b[0m\u001b[0;34m\u001b[0m\u001b[0m\n\u001b[0m",
      "\u001b[0;31mTypeError\u001b[0m: ord() expected a character, but string of length 2 found"
     ]
    }
   ],
   "source": [
    "x = input('number >>>')\n",
    "print( x , ord(x))"
   ]
  },
  {
   "cell_type": "code",
   "execution_count": 10,
   "metadata": {},
   "outputs": [
    {
     "name": "stdout",
     "output_type": "stream",
     "text": [
      "1\n",
      "2\n",
      "3\n"
     ]
    }
   ],
   "source": [
    "a = '123'\n",
    "b = '345'\n",
    "\n",
    "for i in a:\n",
    "  print(i)"
   ]
  },
  {
   "cell_type": "code",
   "execution_count": 4,
   "metadata": {},
   "outputs": [
    {
     "name": "stdout",
     "output_type": "stream",
     "text": [
      "X = 40 Y = 8\n",
      "X + Y= 48 ,X-Y = 32 ,X * Y = 320 ,X / Y = 5.0\n"
     ]
    }
   ],
   "source": [
    "def function ():\n",
    "  while True:\n",
    "    a = True\n",
    "    X = input(\"Input a number. If you would like to quit, input 'q' >>> \")\n",
    "    if X == 'q':\n",
    "      break\n",
    "    while a == True:\n",
    "      for i in X:\n",
    "        if ord(i) >= 48 and ord(i)<= 57:\n",
    "          continue\n",
    "        else:\n",
    "          print ('Sorry, your input is incorrect, please input enter a number ')\n",
    "          a = False\n",
    "          break\n",
    "      if a == False:\n",
    "        break\n",
    "      Y = input('Input a number >>> ')\n",
    "      for j in Y:\n",
    "        if ord(j) >= 48 and ord(j)<= 57:\n",
    "          continue\n",
    "        else:\n",
    "          print ('Sorry, your input is incorrect, please input enter a number ')\n",
    "          a = False\n",
    "          break\n",
    "      if a == True:\n",
    "        x = int(X)\n",
    "        y = int(Y)\n",
    "        plus = x+y\n",
    "        minus = x-y\n",
    "        multiple = x*y\n",
    "        divided = float(x)/float(y)\n",
    "        print('X = '+ X, 'Y = '+ Y)\n",
    "        print ( 'X + Y= '+str(plus)+ ' ,X-Y = '+str(minus)+' ,X * Y = '+ str(multiple) + ' ,X / Y = ' + str(divided) )\n",
    "        break\n",
    "function()\n"
   ]
  },
  {
   "cell_type": "code",
   "execution_count": 6,
   "metadata": {},
   "outputs": [
    {
     "name": "stdout",
     "output_type": "stream",
     "text": [
      "0\n",
      "1\n",
      "2\n",
      "3\n",
      "4\n",
      "6\n",
      "7\n",
      "9\n"
     ]
    }
   ],
   "source": [
    "for i in range (10):\n",
    "  if i == 8 or i == 5:\n",
    "    continue\n",
    "  print(i)"
   ]
  },
  {
   "cell_type": "code",
   "execution_count": 20,
   "metadata": {},
   "outputs": [
    {
     "name": "stdout",
     "output_type": "stream",
     "text": [
      "1\n",
      "2\n",
      "3\n",
      "4\n",
      "5\n",
      "6\n",
      "7\n",
      "8\n",
      "9\n",
      "10\n",
      "11\n"
     ]
    }
   ],
   "source": [
    "count =0\n",
    "while count <= 10:\n",
    "  count += 1 \n",
    "  print(count)"
   ]
  }
 ],
 "metadata": {
  "kernelspec": {
   "display_name": "Python 3.10.6 64-bit",
   "language": "python",
   "name": "python3"
  },
  "language_info": {
   "codemirror_mode": {
    "name": "ipython",
    "version": 3
   },
   "file_extension": ".py",
   "mimetype": "text/x-python",
   "name": "python",
   "nbconvert_exporter": "python",
   "pygments_lexer": "ipython3",
   "version": "3.10.6"
  },
  "orig_nbformat": 4,
  "vscode": {
   "interpreter": {
    "hash": "aee8b7b246df8f9039afb4144a1f6fd8d2ca17a180786b69acc140d282b71a49"
   }
  }
 },
 "nbformat": 4,
 "nbformat_minor": 2
}
